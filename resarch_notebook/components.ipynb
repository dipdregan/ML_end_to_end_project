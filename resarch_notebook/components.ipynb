{
 "cells": [
  {
   "attachments": {},
   "cell_type": "markdown",
   "metadata": {},
   "source": [
    "## Data Ingetion"
   ]
  },
  {
   "cell_type": "code",
   "execution_count": null,
   "metadata": {},
   "outputs": [],
   "source": [
    "data_ingestion_config :\n",
    "  dataset_download_url : https://raw.githubusercontent.com/ageron/handson-ml/master/datasets/housing/housing.tgz\n",
    "  raw_data_dir : raw_data\n",
    "  tgz_download_dir : tgz_data\n",
    "  ingested_dir : ingested_data\n",
    "  ingested_train_data : train\n",
    "  ingested_test_data : test"
   ]
  },
  {
   "cell_type": "code",
   "execution_count": 2,
   "metadata": {},
   "outputs": [],
   "source": [
    "url =  'https://raw.githubusercontent.com/ageron/handson-ml/master/datasets/housing/housing.tgz'\n",
    "# here i want to extract the file name \"housing.tgz\""
   ]
  },
  {
   "cell_type": "code",
   "execution_count": 3,
   "metadata": {},
   "outputs": [],
   "source": [
    "import os,sys"
   ]
  },
  {
   "cell_type": "code",
   "execution_count": 4,
   "metadata": {},
   "outputs": [
    {
     "data": {
      "text/plain": [
       "'housing.tgz'"
      ]
     },
     "execution_count": 4,
     "metadata": {},
     "output_type": "execute_result"
    }
   ],
   "source": [
    "os.path.basename(url)"
   ]
  },
  {
   "cell_type": "code",
   "execution_count": 5,
   "metadata": {},
   "outputs": [],
   "source": [
    "pathh = r'F:\\Machine_Learnig _End_to_end_project\\Machin_Learning_Project(Housing)\\config'\n"
   ]
  },
  {
   "cell_type": "code",
   "execution_count": 6,
   "metadata": {},
   "outputs": [
    {
     "data": {
      "text/plain": [
       "['config.yaml', 'schema.yaml']"
      ]
     },
     "execution_count": 6,
     "metadata": {},
     "output_type": "execute_result"
    }
   ],
   "source": [
    "os.listdir(pathh)"
   ]
  },
  {
   "cell_type": "code",
   "execution_count": 7,
   "metadata": {},
   "outputs": [
    {
     "data": {
      "text/plain": [
       "'config.yaml'"
      ]
     },
     "execution_count": 7,
     "metadata": {},
     "output_type": "execute_result"
    }
   ],
   "source": [
    "os.listdir(pathh)[0]"
   ]
  },
  {
   "attachments": {},
   "cell_type": "markdown",
   "metadata": {},
   "source": [
    "# Data Validation"
   ]
  },
  {
   "cell_type": "code",
   "execution_count": 2,
   "metadata": {},
   "outputs": [],
   "source": [
    "from housing.logger import logging\n",
    "from housing.exception import HousingException\n",
    "from housing.entity.config_entity import DataValidationConfig\n",
    "from housing.entity.artifact_entity import DataIngestionArtifact\n",
    "\n",
    "import pandas as pd\n",
    "\n",
    "from evidently.model_profile import Profile\n",
    "from evidently.model_profile.sections import DataDriftProfileSection\n",
    "from evidently.dashboard import Dashboard\n",
    "from evidently.dashboard.tabs import DataDriftTab\n",
    "\n",
    "import os,sys\n",
    "import json\n",
    "\n",
    "class DataValidation:\n",
    "\n",
    "    def __init__(self,data_validation_config: DataValidationConfig,\n",
    "                 data_ingestion_artifact: DataIngestionArtifact):\n",
    "        try:\n",
    "            self.data_validation_config = data_validation_config\n",
    "            self.data_ingestion_artifact = data_ingestion_artifact\n",
    "        except Exception as e:\n",
    "            raise HousingException(e,sys) from e\n",
    "\n",
    "    def get_train_test_df(self):\n",
    "        try:\n",
    "            train_df = pd.read_csv(self.data_ingestion_artifact.train_file_path)\n",
    "            test_df = pd.read_csv(self.data_ingestion_artifact.test_file_path)\n",
    "\n",
    "            return train_df,test_df\n",
    "        except Exception as e:\n",
    "            raise HousingException(e,sys) from e\n",
    "        \n",
    "    def is_train_test_file_exists(self):\n",
    "        try:\n",
    "            logging.info(\"Checking if train and test file is available.....>>>>> \")\n",
    "\n",
    "            is_train_file_exist = False\n",
    "            is_test_file_exist = False\n",
    "\n",
    "            train_file_path = self.data_ingestion_artifact.train_file_path\n",
    "            test_file_path = self.data_ingestion_artifact.test_file_path\n",
    "\n",
    "            is_train_file_exist = os.path.exists(train_file_path)\n",
    "            is_test_file_exist = os.path.exists(test_file_path)\n",
    "\n",
    "            is_availabe = is_train_file_exist and is_test_file_exist\n",
    "\n",
    "            logging.info(f\"Is train and test file exists?-> {is_availabe}\")\n",
    "            if not is_availabe:\n",
    "                training_file = self.data_ingestion_artifact.train_file_path\n",
    "                testing_file = self.data_ingestion_artifact.test_file_path\n",
    "\n",
    "                message = f\"Training file : {training_file} or testing file : {testing_file}\"\\\n",
    "                        \"is not present\"\n",
    "                raise Exception(f'Trianing and testing file is not available...........\\n{message}')\n",
    "\n",
    "\n",
    "            return is_availabe\n",
    "        except Exception as e:\n",
    "            raise HousingException(e,sys) from e\n",
    "        \n",
    "    def validate_dataset_schema(self)->bool:\n",
    "        try:\n",
    "            validation_status = False\n",
    "            # validate training and testing dataset using schema\n",
    "            #1. Number of columns\n",
    "            #2. check the value of ocean proximity\n",
    "            # accepteble values\n",
    "            # - <1H\n",
    "            # - INLAND\n",
    "            # - ISLAND\n",
    "            # - NEAR BAY\n",
    "            # - NEAR OCEAN\n",
    "            #3. check columns names\n",
    "\n",
    "\n",
    "\n",
    "            validation_status = True\n",
    "\n",
    "            return validation_status\n",
    "        except Exception as e:\n",
    "            raise HousingException(e,sys) from e\n",
    "        \n",
    "    def save_data_drift_report(self):\n",
    "        try:\n",
    "            profile = Profile(sections=[DataDriftProfileSection()])\n",
    "\n",
    "            train_df,test_df = self.get_train_test_df()\n",
    "\n",
    "            profile.calculate(train_df,test_df)\n",
    "\n",
    "            profile.json()\n",
    "\n",
    "            report = json.loads(profile.json())\n",
    "\n",
    "            with open(self.data_validation_config.report_file_path,'w') as report_file:\n",
    "                json.dump(report,report_file,indent=5)\n",
    "\n",
    "            return report\n",
    "        except Exception as e:\n",
    "            raise HousingException(e,sys) from e\n",
    "        \n",
    "    def save_data_drift_report_page(self):\n",
    "        try:\n",
    "            pass\n",
    "        except Exception as e:\n",
    "            raise HousingException(e,sys) from e\n",
    "        \n",
    "        \n",
    "    def is_data_drift_found(self)->bool:\n",
    "        try:\n",
    "            pass\n",
    "        except Exception as e:\n",
    "            raise HousingException(e,sys) from e\n",
    "        \n",
    "    def initiate_data_validation(self):\n",
    "        try:\n",
    "            self.is_train_test_file_exists()\n",
    "            self.validate_dataset_schema()\n",
    "            self.is_data_drift_found()\n",
    "\n",
    "\n",
    "        except Exception as e:\n",
    "            raise HousingException(e,sys) from e\n",
    "        \n"
   ]
  },
  {
   "cell_type": "code",
   "execution_count": null,
   "metadata": {},
   "outputs": [],
   "source": []
  }
 ],
 "metadata": {
  "kernelspec": {
   "display_name": "Python 3",
   "language": "python",
   "name": "python3"
  },
  "language_info": {
   "codemirror_mode": {
    "name": "ipython",
    "version": 3
   },
   "file_extension": ".py",
   "mimetype": "text/x-python",
   "name": "python",
   "nbconvert_exporter": "python",
   "pygments_lexer": "ipython3",
   "version": "3.8.16"
  },
  "orig_nbformat": 4
 },
 "nbformat": 4,
 "nbformat_minor": 2
}
